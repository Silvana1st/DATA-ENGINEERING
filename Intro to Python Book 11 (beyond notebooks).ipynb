{
 "cells": [
  {
   "cell_type": "markdown",
   "metadata": {
    "collapsed": true
   },
   "source": [
    "<img src=\"./intro_images/HDSbanner.jpg\" width=\"100%\" align=\"left\" />"
   ]
  },
  {
   "cell_type": "markdown",
   "metadata": {},
   "source": [
    "<table style=\"float:right;\">\n",
    "    <tr>\n",
    "        <td>                      \n",
    "            <div style=\"text-align: right\"><a href=\"https://alandavies.netlify.com\" target=\"_blank\">Dr Alan Davies</a></div>\n",
    "            <div style=\"text-align: right\">Senior Lecturer Health Data Science</div>\n",
    "            <div style=\"text-align: right\">University of Manchester</div>\n",
    "         </td>\n",
    "         <td>\n",
    "             <img src=\"./intro_images/alan.PNG\" width=\"30%\" />\n",
    "         </td>\n",
    "     </tr>\n",
    "</table>"
   ]
  },
  {
   "cell_type": "markdown",
   "metadata": {},
   "source": [
    "# 11.0 Beyond notebooks\n",
    "****"
   ]
  },
  {
   "cell_type": "markdown",
   "metadata": {},
   "source": [
    "#### About this Notebook\n",
    "This notebook introduces Integrated Development Environments (IDEs) that are used to manage larger Python projects. We also look at some of the other uses of Python (e.g. for data science and analysis)."
   ]
  },
  {
   "cell_type": "markdown",
   "metadata": {},
   "source": [
    "<div class=\"alert alert-block alert-warning\"><b>Learning Objectives:</b> \n",
    "<br/> At the end of this notebook you will be able to:\n",
    "    \n",
    "- Investigate key features of Integrated Development Environments (IDEs)\n",
    "\n",
    "- Explore some of the other uses of Python\n",
    "\n",
    "</div> "
   ]
  },
  {
   "cell_type": "markdown",
   "metadata": {},
   "source": [
    "<a id=\"top\"></a>\n",
    "\n",
    "<b>Table of contents</b><br>\n",
    "\n",
    "11.1 [Integrated development environments](#ide)\n",
    "\n",
    "11.2 [Python for data science](#ds)\n",
    "\n",
    "11.3 [Data visualization](#dataviz)"
   ]
  },
  {
   "cell_type": "markdown",
   "metadata": {},
   "source": [
    "So far we have used Python in the context of <code>Jupyter</code> notebooks. Notebooks are often used in research to report findings as an interactive means of presenting results with text and other resources. This is also good practice for reproducible research where the data and analysis can be displayed together for other researchers to examine and use. Although widely used for teaching and research, notebooks are less useful for building complete software systems. For this sort of work programmers would usually use an <code>IDE</code> (Integrated Development Environment). One that comes for free with the <code>Anaconda</code> Python distribution is called <code>Spyder</code>, another widely used free IDE for Python is <code>PyCharm</code>. There are many more available. These can handle multiple files and provide a wealth of other tools to help with coding tasks."
   ]
  },
  {
   "cell_type": "markdown",
   "metadata": {},
   "source": [
    "<a id=\"ide\"></a>\n",
    "#### 11.1 Integrated development environments"
   ]
  },
  {
   "cell_type": "markdown",
   "metadata": {},
   "source": [
    "<img src=\"./intro_images/spyder.PNG\" width=\"100%\" />"
   ]
  },
  {
   "cell_type": "markdown",
   "metadata": {},
   "source": [
    "The image above shows the Spyder IDE. IDE's provide several useful features. These usually include a file/function explorer to work on and switch between multiple files in a project. A main code editing window or windows. In the case of Spyder a variable explorer showing the contents of variables and a console for viewing output or trying out bits of code. "
   ]
  },
  {
   "cell_type": "markdown",
   "metadata": {},
   "source": [
    "<img src=\"./intro_images/pycharm.PNG\" width=\"100%\" />"
   ]
  },
  {
   "cell_type": "markdown",
   "metadata": {},
   "source": [
    "The image above shows the PyCharm IDE. With the file/project navigation panel on the left and two code windows. IDEs also allow for tasks like <code>debugging</code> where you can step through code executing it line by line or watch the contents of variables to determine where errors may be occurring. "
   ]
  },
  {
   "cell_type": "markdown",
   "metadata": {},
   "source": [
    "For large projects, programmers will use an IDE to manage the various resources of a project (images, source code files, etc.) To see some of the features of an IDE play the video below to see some of the basic features."
   ]
  },
  {
   "cell_type": "markdown",
   "metadata": {},
   "source": [
    "<video controls src=\"./intro_images/IDE.mp4\" width=\"100%\" />"
   ]
  },
  {
   "cell_type": "markdown",
   "metadata": {},
   "source": [
    "<div class=\"alert alert-block alert-info\">\n",
    "<b>Task 1:</b>\n",
    "<br> \n",
    "Download one of the IDEs mentioned and view the getting started guide. Have a go with the various settings and features. You can usually adjust the colours, font size, add line numbers etc. Aim to become familiar with the various features of the IDE as they can be very useful and powerful. You may also prefer watching a video on how to use them on YouTube.\n",
    "</div>"
   ]
  },
  {
   "cell_type": "markdown",
   "metadata": {},
   "source": [
    "<a id=\"ds\"></a>\n",
    "#### 11.2 Python  for data science"
   ]
  },
  {
   "cell_type": "markdown",
   "metadata": {},
   "source": [
    "<div class=\"alert alert-danger\">\n",
    "<b>Note:</b> This section of the notebook is just for additional information to see some of the extra functionality of Python. It is not essential for you to learn this.\n",
    "</div>"
   ]
  },
  {
   "cell_type": "markdown",
   "metadata": {},
   "source": [
    "One structure for holding data used often in data science is the <code>data frame</code>. One can think of a data frame in a similar way to that of spreadsheet. It is made up of rows and columns. The columns are typically features (data fields) and the rows are records. The <code>pandas</code> module has functionality for creating and manipulating data frames. In the example below we make a data frame containing data about 3 peoples names, ages and blood pressure readings."
   ]
  },
  {
   "cell_type": "code",
   "execution_count": null,
   "metadata": {},
   "outputs": [],
   "source": [
    "import pandas as pd\n",
    "\n",
    "data = [['Paul Smith', 52, \"128/70\"], ['Nick Bandera', 18, \"130/60\"], ['Julie Miller', 31, \"142/72\"]] \n",
    "my_df = pd.DataFrame(data, columns = [\"Name\", \"Age\", \"BP\"])\n",
    "print(my_df)"
   ]
  },
  {
   "cell_type": "markdown",
   "metadata": {},
   "source": [
    "For a nicer output just use the data frame name:"
   ]
  },
  {
   "cell_type": "code",
   "execution_count": null,
   "metadata": {},
   "outputs": [],
   "source": [
    "my_df"
   ]
  },
  {
   "cell_type": "markdown",
   "metadata": {},
   "source": [
    "<div class=\"alert alert-success\">\n",
    "<b>Note:</b> In reality data scientists will often load data from other sources, such as CSV (Comma Separated Value) files into data frames so they can perform analysis with the data, rather than making their own data frames like we do here. \n",
    "</div>"
   ]
  },
  {
   "cell_type": "markdown",
   "metadata": {},
   "source": [
    "We can look at the columns with the inbuilt functionality."
   ]
  },
  {
   "cell_type": "code",
   "execution_count": null,
   "metadata": {},
   "outputs": [],
   "source": [
    "my_df.columns"
   ]
  },
  {
   "cell_type": "markdown",
   "metadata": {},
   "source": [
    "And select data using the name of the column"
   ]
  },
  {
   "cell_type": "code",
   "execution_count": null,
   "metadata": {},
   "outputs": [],
   "source": [
    "my_df[\"BP\"]"
   ]
  },
  {
   "cell_type": "code",
   "execution_count": null,
   "metadata": {},
   "outputs": [],
   "source": [
    "my_df[\"BP\"][2]"
   ]
  },
  {
   "cell_type": "markdown",
   "metadata": {},
   "source": [
    "We can use the <code>describe</code> function to get some basic statistical information out of the data as well. Here we see the count, average, standard deviation, min and max values and quartiles. "
   ]
  },
  {
   "cell_type": "code",
   "execution_count": null,
   "metadata": {},
   "outputs": [],
   "source": [
    "my_df[\"Age\"].describe()"
   ]
  },
  {
   "cell_type": "markdown",
   "metadata": {},
   "source": [
    "<a id=\"dataviz\"></a>\n",
    "#### 11.3 Data visualization"
   ]
  },
  {
   "cell_type": "markdown",
   "metadata": {},
   "source": [
    "We can also create visualizations of data using the <code>matplotlib</code> module (among others). The first line is a special command that allows us to render the plot inline on the notebook and can be ignored (unless you are using a notebook). Here we create a <code>boxplot</code> of the <code>Age</code> data that you can compare to the textual output produced with the <code>describe()</code> function."
   ]
  },
  {
   "cell_type": "code",
   "execution_count": null,
   "metadata": {},
   "outputs": [],
   "source": [
    "%matplotlib inline\n",
    "import matplotlib.pyplot as plt\n",
    "\n",
    "fig1, ax1 = plt.subplots()\n",
    "ax1.boxplot(my_df[\"Age\"]);"
   ]
  },
  {
   "cell_type": "markdown",
   "metadata": {},
   "source": [
    "There are many different types of plot that you can use in Python. Some of the popular libraries include <code>matplotlib</code>, <code>seaborn</code>, <code>ploty</code> and <code>ggplot</code> based on the R (statistical programming languages) library of the same name to name just a few. You can check out some examples on the <a href=\"https://matplotlib.org/stable/gallery/index.html#\" target=\"_blank\">matplotlib gallery</a>."
   ]
  },
  {
   "cell_type": "markdown",
   "metadata": {},
   "source": [
    "<div class=\"alert alert-success\">\n",
    "<b>Note:</b> You can adapt some of these visualisations to create your own. Here is a blog post I wrote in towards data science on <a href=\"https://towardsdatascience.com/creating-the-ecology-classic-kite-diagram-in-python-46989e1310ad\" target=\"_blank\">Creating the ecology classic 'Kite diagram' in Python</a>. Where I recreate the ecology Kite diagram in Python by using the matplotlib library. \n",
    "</div>"
   ]
  },
  {
   "cell_type": "markdown",
   "metadata": {},
   "source": [
    "Here is another example, a <code>bar chart</code> showing the name plotted against the age. This time we have include axis labels. "
   ]
  },
  {
   "cell_type": "code",
   "execution_count": null,
   "metadata": {},
   "outputs": [],
   "source": [
    "plt.rcdefaults()\n",
    "fig, ax = plt.subplots()\n",
    "\n",
    "ax.barh(my_df[\"Name\"], my_df[\"Age\"], align='center',color='blue')\n",
    "ax.set_ylabel('Patient name')\n",
    "ax.set_xlabel('Age (years)')"
   ]
  },
  {
   "cell_type": "markdown",
   "metadata": {},
   "source": [
    "Let's add some more information to the data frame. A column of heart rates."
   ]
  },
  {
   "cell_type": "code",
   "execution_count": null,
   "metadata": {},
   "outputs": [],
   "source": [
    "my_df[\"HR\"] = [101, 68, 80]\n",
    "my_df"
   ]
  },
  {
   "cell_type": "markdown",
   "metadata": {
    "solution2": "hidden",
    "solution2_first": true
   },
   "source": [
    "<div class=\"alert alert-block alert-info\">\n",
    "<b>Task 2:</b>\n",
    "<br> \n",
    "Look up how to create a <code>scatterplot</code> and plot <code>Age</code> on the x-axis against <code>HR</code> on the y-axis\n",
    "</div>"
   ]
  },
  {
   "cell_type": "code",
   "execution_count": null,
   "metadata": {
    "solution2": "hidden"
   },
   "outputs": [],
   "source": [
    "plt.scatter(my_df[\"Age\"], my_df[\"HR\"], alpha=0.5)\n",
    "plt.title(\"Scatter plot of age and heart rate\")\n",
    "plt.xlabel(\"Age (years)\")\n",
    "plt.ylabel(\"Heart rate (beats per minute)\")\n",
    "plt.show()"
   ]
  },
  {
   "cell_type": "code",
   "execution_count": null,
   "metadata": {},
   "outputs": [],
   "source": []
  },
  {
   "cell_type": "markdown",
   "metadata": {},
   "source": [
    "<div class=\"alert alert-success\">\n",
    "<b>Note:</b> We can also develop graphical front ends (Graphical User Interfaces - GUI's) in Python to make our programs easier to use and more attractive. We can do this by creating web front ends (for example using the Python <code>Flask</code> library) or by using packages like <code>PyQt5</code> for a specific operating system. If you want to see an example of this, check out this blog post I wrote on <a href=\"https://towardsdatascience.com/transcribing-interview-data-from-video-to-text-with-python-5cdb6689eea1\" target=\"_blank\">Transcribing interview data from video to text with Python</a> which features building a GUI in Python using the QT Designer tool.\n",
    "</div>"
   ]
  },
  {
   "cell_type": "markdown",
   "metadata": {},
   "source": [
    "<div class=\"alert alert-warning\">\n",
    "<b>Conclusion</b>  \n",
    "</div>"
   ]
  },
  {
   "cell_type": "markdown",
   "metadata": {},
   "source": [
    "This is just a small sample of the sort of things you can use Python for. If you have a sound understanding of the topics covered to this point, you can build on them to use Python in different ways. Data science tasks are just one such application. Python can be used to build complete software systems, including hosting web pages, accessing databases and other files (not covered in this short intro) and carrying out data analysis. Hopefully this short introduction to programming using Python has provided a broad background on which you can go on to develop your skills. Many of the concepts explained here are present in many other modern programming languages (even if their syntax is different). Programming is a skill that requires practice and trial and error. The more you do it, the better you will get, rather like playing a musical instrument. So..."
   ]
  },
  {
   "cell_type": "code",
   "execution_count": null,
   "metadata": {},
   "outputs": [],
   "source": [
    "\"practice \" * 3"
   ]
  },
  {
   "cell_type": "markdown",
   "metadata": {},
   "source": [
    "### Notebook details\n",
    "<br>\n",
    "<i>Notebook created by <strong>Dr. Alan Davies</strong>\n",
    "\n",
    "Publish date: March 2021<br>\n",
    "Review date: March 2022</i>\n",
    "\n",
    "Please give your feedback using the button below:"
   ]
  },
  {
   "cell_type": "markdown",
   "metadata": {},
   "source": [
    "<a class=\"typeform-share button\" href=\"https://hub11.typeform.com/to/Q8sIaXFU\" data-mode=\"popup\" style=\"display:inline-block;text-decoration:none;background-color:#3A7685;color:white;cursor:pointer;font-family:Helvetica,Arial,sans-serif;font-size:18px;line-height:45px;text-align:center;margin:0;height:45px;padding:0px 30px;border-radius:22px;max-width:100%;white-space:nowrap;overflow:hidden;text-overflow:ellipsis;font-weight:bold;-webkit-font-smoothing:antialiased;-moz-osx-font-smoothing:grayscale;\" target=\"_blank\">Rate this notebook </a> <script> (function() { var qs,js,q,s,d=document, gi=d.getElementById, ce=d.createElement, gt=d.getElementsByTagName, id=\"typef_orm_share\", b=\"https://embed.typeform.com/\"; if(!gi.call(d,id)){ js=ce.call(d,\"script\"); js.id=id; js.src=b+\"embed.js\"; q=gt.call(d,\"script\")[0]; q.parentNode.insertBefore(js,q) } })() </script>"
   ]
  },
  {
   "cell_type": "markdown",
   "metadata": {},
   "source": [
    "## Notes:"
   ]
  },
  {
   "cell_type": "code",
   "execution_count": null,
   "metadata": {},
   "outputs": [],
   "source": []
  },
  {
   "cell_type": "code",
   "execution_count": null,
   "metadata": {},
   "outputs": [],
   "source": []
  },
  {
   "cell_type": "code",
   "execution_count": null,
   "metadata": {},
   "outputs": [],
   "source": []
  }
 ],
 "metadata": {
  "hide_input": false,
  "kernelspec": {
   "display_name": "Python 3",
   "language": "python",
   "name": "python3"
  },
  "language_info": {
   "codemirror_mode": {
    "name": "ipython",
    "version": 3
   },
   "file_extension": ".py",
   "mimetype": "text/x-python",
   "name": "python",
   "nbconvert_exporter": "python",
   "pygments_lexer": "ipython3",
   "version": "3.7.3"
  }
 },
 "nbformat": 4,
 "nbformat_minor": 2
}
