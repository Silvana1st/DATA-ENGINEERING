{
 "cells": [
  {
   "cell_type": "markdown",
   "metadata": {},
   "source": [
    "<img src=\"./intro_images/HDSbanner.jpg\" width=\"100%\" align=\"left\" />"
   ]
  },
  {
   "cell_type": "markdown",
   "metadata": {},
   "source": [
    "<table style=\"float:right;\">\n",
    "    <tr>\n",
    "        <td>                      \n",
    "            <div style=\"text-align: right\"><a href=\"https://alandavies.netlify.com\" target=\"_blank\">Dr Alan Davies</a></div>\n",
    "            <div style=\"text-align: right\">Senior Lecturer Health Data Science</div>\n",
    "            <div style=\"text-align: right\">University of Manchester</div>\n",
    "         </td>\n",
    "         <td>\n",
    "             <img src=\"./intro_images/alan.PNG\" width=\"30%\" />\n",
    "         </td>\n",
    "     </tr>\n",
    "</table>"
   ]
  },
  {
   "cell_type": "markdown",
   "metadata": {},
   "source": [
    "# 8.0 Importing modules\n",
    "****"
   ]
  },
  {
   "cell_type": "markdown",
   "metadata": {},
   "source": [
    "#### About this Notebook\n",
    "This notebook introduces the use of additional external Python modules that can be used to expand the number of functions and tools available to you as a programmer. We can also create our own modules so we can break up long programs into separate more manageable files. "
   ]
  },
  {
   "cell_type": "markdown",
   "metadata": {},
   "source": [
    "<div class=\"alert alert-block alert-warning\"><b>Learning Objectives:</b> \n",
    "<br/> At the end of this notebook you will be able to:\n",
    "    \n",
    "- Investigate key features of using external modules in Python\n",
    "\n",
    "- Investigate key features of using our own custom made modules in Python\n",
    "\n",
    "</div> "
   ]
  },
  {
   "cell_type": "markdown",
   "metadata": {},
   "source": [
    "<a id=\"top\"></a>\n",
    "\n",
    "<b>Table of contents</b><br>\n",
    "\n",
    "8.1 [Installing additional modules](#install)\n",
    "\n",
    "8.2 [Working with multiple Python files in a single project](#multiple)"
   ]
  },
  {
   "cell_type": "markdown",
   "metadata": {},
   "source": [
    "There are a massive amount of modules and functions that have been written by various people that are available to use in Python. This saves a lot of time compared to writing your own functions to do things. Certainly for common tasks there is nearly always a pre-made option available for you to use. Let's consider the arithmetic <code>mean</code>. Finding the average of some numbers is a common statistical task. We could write our own function to add up a list of numbers and divide them by the length of the list. i.e:"
   ]
  },
  {
   "cell_type": "code",
   "execution_count": null,
   "metadata": {},
   "outputs": [],
   "source": [
    "def average_function(nums):\n",
    "    total = 0\n",
    "    for n in nums:\n",
    "        total += n\n",
    "        \n",
    "    return total / len(nums)"
   ]
  },
  {
   "cell_type": "code",
   "execution_count": null,
   "metadata": {},
   "outputs": [],
   "source": [
    "my_list = [5, 2, 4, 6, 2]\n",
    "print(\"Mean =\", average_function(my_list))"
   ]
  },
  {
   "cell_type": "markdown",
   "metadata": {},
   "source": [
    "But why go to this trouble if someone has already made such a function for you; and probably tested the function thoroughly. To use functions others have written we need to use the <code>import</code> keyword followed by the module. For example if we want to use the <code>mean</code> function from the <code>statistics</code> module:"
   ]
  },
  {
   "cell_type": "code",
   "execution_count": null,
   "metadata": {},
   "outputs": [],
   "source": [
    "import statistics\n",
    "\n",
    "my_list = [5, 2, 4, 6, 2]\n",
    "print(\"Mean =\", statistics.mean(my_list))"
   ]
  },
  {
   "cell_type": "markdown",
   "metadata": {},
   "source": [
    "To access the <code>mean</code> function in the <code>statistics</code> module we type the name of the module, a dot <code>.</code> and then the name of the function we want to use (<code>module_name.function_name</code>). There are many different ways we can do this in Python depending on our needs. Let's say we want to use the <code>sqrt</code> function from the <code>math</code> module to find out the square root of a number. We can do this in the following ways."
   ]
  },
  {
   "cell_type": "code",
   "execution_count": null,
   "metadata": {},
   "outputs": [],
   "source": [
    "import math\n",
    "\n",
    "print(\"Square root of 32 is \", math.sqrt(32))"
   ]
  },
  {
   "cell_type": "markdown",
   "metadata": {},
   "source": [
    "In this next example we specifically call the function that we want from the module. Now we don't need to use the dot, we can use it directly like we do the <code>print</code> function. We can call more functions by separating them with commas."
   ]
  },
  {
   "cell_type": "code",
   "execution_count": null,
   "metadata": {},
   "outputs": [],
   "source": [
    "from math import sqrt\n",
    "\n",
    "print(\"Square root of 32 is \", sqrt(32))"
   ]
  },
  {
   "cell_type": "markdown",
   "metadata": {},
   "source": [
    "This next option uses the star to import everything form the math module."
   ]
  },
  {
   "cell_type": "code",
   "execution_count": null,
   "metadata": {},
   "outputs": [],
   "source": [
    "from math import *\n",
    "\n",
    "print(\"Square root of 32 is \", sqrt(32))"
   ]
  },
  {
   "cell_type": "markdown",
   "metadata": {},
   "source": [
    "We can even rename modules as in this case where we call the <code>math</code> module <code>m</code>. This is often done with certain modules in Python for example the <code>numpy</code> module as seen below."
   ]
  },
  {
   "cell_type": "code",
   "execution_count": null,
   "metadata": {},
   "outputs": [],
   "source": [
    "import math as m\n",
    "\n",
    "print(\"Square root of 32 is \", m.sqrt(32))"
   ]
  },
  {
   "cell_type": "code",
   "execution_count": null,
   "metadata": {},
   "outputs": [],
   "source": [
    "import numpy as np"
   ]
  },
  {
   "cell_type": "markdown",
   "metadata": {},
   "source": [
    "Finally you can load other local Python files that you have written yourself in the same way. Just type <code>import</code> followed by the name of your Python file. This can be used to organise larger projects with multiple Python source code files."
   ]
  },
  {
   "cell_type": "markdown",
   "metadata": {
    "collapsed": true
   },
   "source": [
    "We can use the <code>help()</code> function, which we saw earlier in the series of notebooks, and pass in a module name to get details of the module and the functions within it. To just list the function names we can use the <code>dir()</code> function and pass in the module name:"
   ]
  },
  {
   "cell_type": "code",
   "execution_count": null,
   "metadata": {},
   "outputs": [],
   "source": [
    "import statistics\n",
    "help(statistics)"
   ]
  },
  {
   "cell_type": "code",
   "execution_count": null,
   "metadata": {},
   "outputs": [],
   "source": [
    "dir(statistics)"
   ]
  },
  {
   "cell_type": "markdown",
   "metadata": {
    "solution2": "hidden",
    "solution2_first": true
   },
   "source": [
    "<div class=\"alert alert-block alert-info\">\n",
    "<b>Task 1:</b>\n",
    "<br> \n",
    "1. Create a list containing the following values: 1, 5, 3, 2, 6, 3, 2, 2<br />\n",
    "2. Using the <code>help()</code> and <code>dir()</code> functions and the <code>statistics</code> module, find out how to display the <code>mean</code>, <code>standard deviation</code>, <code>mode</code> and <code>median</code> of the values in the list\n",
    "</div>"
   ]
  },
  {
   "cell_type": "code",
   "execution_count": null,
   "metadata": {
    "solution2": "hidden"
   },
   "outputs": [],
   "source": [
    "import statistics as st\n",
    "\n",
    "my_list = [1, 5, 3, 2, 6, 3, 2, 2]\n",
    "print(\"Mean = \",st.mean(my_list))\n",
    "print(\"SD = \",st.stdev(my_list))\n",
    "print(\"Median\", st.median(my_list))\n",
    "print(\"Mode = \",st.mode(my_list))"
   ]
  },
  {
   "cell_type": "code",
   "execution_count": null,
   "metadata": {},
   "outputs": [],
   "source": []
  },
  {
   "cell_type": "markdown",
   "metadata": {},
   "source": [
    "<a id=\"install\"></a>\n",
    "#### 8.1 Installing additional modules"
   ]
  },
  {
   "cell_type": "markdown",
   "metadata": {},
   "source": [
    "Not all the Python modules are preinstalled and ready to use. Sometimes you will need to install the module first before you can import them. To do this you can use Python's package manager called <code>pip</code>. This is run in the <code>command prompt</code> (e.g. Anaconda powershell, terminal or command prompt). It works likes this: <code>pip install &lt;package-name-here&gt;</code>. If you are using the <code>Anaconda</code> Python distribution, packages can be installed using <code>conda</code> in a similar way: <code>conda install &lt;package-name-here&gt;</code>."
   ]
  },
  {
   "cell_type": "markdown",
   "metadata": {},
   "source": [
    "<a id=\"multiple\"></a>\n",
    "#### 8.2 Working with multiple Python files in a single project"
   ]
  },
  {
   "cell_type": "markdown",
   "metadata": {},
   "source": [
    "If you were to write some Python code in a Python file <code>*.py</code> for example a set of statistics functions that you want to reuse in other Python programs. You could save this in a file (e.g. <code>myfile.py</code>) and import this file into another Python file <code>import myfile</code>. You might want to run this script directly, but if you import it into another Python program you might not want this code to run automatically. To deal with this there is a line of code that can be placed at the bottom of a script: <code>if __name__ == \"&#95;&#95;main&#95;&#95;\":</code>. You can put code under here in the script to do something differently depending on if the script is run directly or not. There is a short YouTube video (8 minutes) that goes into more detail on this with some examples. You can access this <a href=\"https://www.youtube.com/watch?v=sugvnHA7ElY\" target=\"_blank\">here</a>."
   ]
  },
  {
   "cell_type": "markdown",
   "metadata": {},
   "source": [
    "You can also make your own Python packages by placing Python file(s) in a folder. The folder needs to also contain an empty file called <code>&#95;&#95;init&#95;&#95;.py</code>. This lets Python know that this is a package. "
   ]
  },
  {
   "cell_type": "markdown",
   "metadata": {},
   "source": [
    "### Notebook details\n",
    "<br>\n",
    "<i>Notebook created by <strong>Dr. Alan Davies</strong> \n",
    "\n",
    "Publish date: March 2021<br>\n",
    "Review date: March 2022</i>\n",
    "\n",
    "Please give your feedback using the button below:"
   ]
  },
  {
   "cell_type": "markdown",
   "metadata": {},
   "source": [
    "<a class=\"typeform-share button\" href=\"https://hub11.typeform.com/to/qDZPoO4E\" data-mode=\"popup\" style=\"display:inline-block;text-decoration:none;background-color:#3A7685;color:white;cursor:pointer;font-family:Helvetica,Arial,sans-serif;font-size:18px;line-height:45px;text-align:center;margin:0;height:45px;padding:0px 30px;border-radius:22px;max-width:100%;white-space:nowrap;overflow:hidden;text-overflow:ellipsis;font-weight:bold;-webkit-font-smoothing:antialiased;-moz-osx-font-smoothing:grayscale;\" target=\"_blank\">Rate this notebook </a> <script> (function() { var qs,js,q,s,d=document, gi=d.getElementById, ce=d.createElement, gt=d.getElementsByTagName, id=\"typef_orm_share\", b=\"https://embed.typeform.com/\"; if(!gi.call(d,id)){ js=ce.call(d,\"script\"); js.id=id; js.src=b+\"embed.js\"; q=gt.call(d,\"script\")[0]; q.parentNode.insertBefore(js,q) } })() </script>"
   ]
  },
  {
   "cell_type": "markdown",
   "metadata": {},
   "source": [
    "## Notes:"
   ]
  },
  {
   "cell_type": "code",
   "execution_count": null,
   "metadata": {},
   "outputs": [],
   "source": []
  },
  {
   "cell_type": "code",
   "execution_count": null,
   "metadata": {},
   "outputs": [],
   "source": []
  },
  {
   "cell_type": "code",
   "execution_count": null,
   "metadata": {},
   "outputs": [],
   "source": []
  }
 ],
 "metadata": {
  "hide_input": false,
  "kernelspec": {
   "display_name": "Python 3",
   "language": "python",
   "name": "python3"
  },
  "language_info": {
   "codemirror_mode": {
    "name": "ipython",
    "version": 3
   },
   "file_extension": ".py",
   "mimetype": "text/x-python",
   "name": "python",
   "nbconvert_exporter": "python",
   "pygments_lexer": "ipython3",
   "version": "3.7.3"
  }
 },
 "nbformat": 4,
 "nbformat_minor": 2
}
