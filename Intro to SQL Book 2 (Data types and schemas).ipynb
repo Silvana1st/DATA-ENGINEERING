{
 "cells": [
  {
   "cell_type": "markdown",
   "metadata": {},
   "source": [
    "<img src=\"./intro_images/HDSbanner.jpg\" width=\"100%\" align=\"left\" />"
   ]
  },
  {
   "cell_type": "markdown",
   "metadata": {},
   "source": [
    "<table style=\"float:right;\">\n",
    "    <tr>\n",
    "        <td>                      \n",
    "            <div style=\"text-align: right\"><a href=\"https://alandavies.netlify.com\" target=\"_blank\">Dr Alan Davies</a></div>\n",
    "            <div style=\"text-align: right\">Senior Lecturer health data science</div>\n",
    "            <div style=\"text-align: right\">University of Manchester</div>\n",
    "         </td>\n",
    "         <td>\n",
    "             <img src=\"./intro_images/alan.png\" width=\"30%\" />\n",
    "         </td>\n",
    "     </tr>\n",
    "</table>"
   ]
  },
  {
   "cell_type": "markdown",
   "metadata": {},
   "source": [
    "# 2.0 Data types and database schema\n",
    "****"
   ]
  },
  {
   "cell_type": "markdown",
   "metadata": {},
   "source": [
    "#### About this Notebook\n",
    "This notebook introduces the different data types and relationships between tables in a relational database."
   ]
  },
  {
   "cell_type": "markdown",
   "metadata": {},
   "source": [
    "<div class=\"alert alert-block alert-warning\"><b>Learning Objectives:</b> \n",
    "<br/> At the end of this notebook you will be able to:\n",
    "    \n",
    "- Investigate how we represent relationships between tables in a database system\n",
    "\n",
    "- Explore how we can model data in a SQL database\n",
    "\n",
    "</div> "
   ]
  },
  {
   "cell_type": "markdown",
   "metadata": {},
   "source": [
    "<a id=\"top\"></a>\n",
    "\n",
    "<b>Table of contents</b><br>\n",
    "\n",
    "2.1 [Database schema](#schema)\n",
    "\n",
    "2.2 [Relationships](#rel)\n",
    "\n",
    "2.3 [Dealing with dates and times](#dates)\n",
    "\n",
    "2.4 [Constraints](#constraints)"
   ]
  },
  {
   "cell_type": "markdown",
   "metadata": {},
   "source": [
    "In the last notebook we saw how we could update or delete records from a table by selecting the name of the patient we wanted to edit or remove. We also saw how this could be very problematic if 2 or more patients were to have the same name, as these changes would apply to all people who shared the same name. The way we overcome this in relational databases is to give each record a unique id, called a <code>primary key</code>. As well as this we can specify for each field what type of data we expect it to contain. Let’s see this in action as we recreate the previous <code>med_data</code> table with these new features.  "
   ]
  },
  {
   "cell_type": "code",
   "execution_count": null,
   "metadata": {},
   "outputs": [],
   "source": [
    "%load_ext sql\n",
    "%sql sqlite://"
   ]
  },
  {
   "cell_type": "code",
   "execution_count": null,
   "metadata": {},
   "outputs": [],
   "source": [
    "%%sql\n",
    "DROP TABLE IF EXISTS med_data;\n",
    "CREATE TABLE med_data (\n",
    "    ID INTEGER NOT NULL PRIMARY KEY,\n",
    "    Name VARCHAR(255),\n",
    "    Age INTEGER,\n",
    "    Sex CHAR,\n",
    "    \"Blood pressure\" CHAR(7),\n",
    "    \"Heart rate\" INTEGER\n",
    ");"
   ]
  },
  {
   "cell_type": "markdown",
   "metadata": {},
   "source": [
    "<div class=\"alert alert-success\">\n",
    "<b>Note:</b> We could write the above <code>CREATE TABLE</code> code on a single line as we did previously. Here we write each field on a new line to make it easier to read.\n",
    "</div>"
   ]
  },
  {
   "cell_type": "markdown",
   "metadata": {},
   "source": [
    "Here, rather than just list the column names, we are stating what data type we would like to associate the data in that column with. Note that we add a <code>primary key</code> to uniquely identify each record. Data types here are similar to those we looked at in Python. An <code>INTEGER</code> is an integer (whole number) value. The <code>VARCHAR</code> is for a variable amount of text (with the maximum number of characters allowed in brackets), <code>CHAR</code> for a single character (or a set number of characters). Other versions of SQL such as MySQL have many more data types available. We can use the following code to check the data types:"
   ]
  },
  {
   "cell_type": "code",
   "execution_count": null,
   "metadata": {},
   "outputs": [],
   "source": [
    "%%sql\n",
    "PRAGMA table_info(med_data);"
   ]
  },
  {
   "cell_type": "markdown",
   "metadata": {},
   "source": [
    "This shows us the field name, data type, and if the field can be NULL or not (we said the primary key cannot be NULL). We can also see any default values that are set and if a field is a primary key (pk) or not. Here we can see the field <code>ID</code> is indeed a primary key (indicated by the number 1 in column <code>pk</code>)."
   ]
  },
  {
   "cell_type": "markdown",
   "metadata": {},
   "source": [
    "<div class=\"alert alert-success\">\n",
    "<b>Note:</b> In SQL <code>NULL</code> is a keyword indicating that something has no value. \n",
    "</div>"
   ]
  },
  {
   "cell_type": "markdown",
   "metadata": {
    "collapsed": true
   },
   "source": [
    "To see an exhaustive list of the data types on offer in the different versions of SQL, visit this link: <a href=\"https://www.w3schools.com/sql/sql_datatypes.asp\" target=\"_blank\">SQL data types</a>. Please note that because <code>SQLite</code> is a lightweight version of SQL, not all these data types are available."
   ]
  },
  {
   "cell_type": "markdown",
   "metadata": {
    "solution2": "hidden",
    "solution2_first": true
   },
   "source": [
    "<div class=\"alert alert-block alert-info\">\n",
    "<b>Task 1:</b>\n",
    "<br> \n",
    "What sort of variable type would you use for a telephone number?\n",
    "</div>"
   ]
  },
  {
   "cell_type": "markdown",
   "metadata": {
    "solution2": "hidden"
   },
   "source": [
    "Although you could technically store it as an integer, or other numerical data type, this sort of data would be typically stored as a string (text). This is because you would not normally perform operations (i.e. maths) on something like a phone number. For example you are unlikely to want to compute the average phone number, as this makes no sense."
   ]
  },
  {
   "cell_type": "code",
   "execution_count": null,
   "metadata": {},
   "outputs": [],
   "source": []
  },
  {
   "cell_type": "markdown",
   "metadata": {},
   "source": [
    "Let us add some data to the specified columns. It is always a good idea to specifically name the columns that you want the data to go into to avoid mistakes, such as putting data in the incorrect column."
   ]
  },
  {
   "cell_type": "code",
   "execution_count": null,
   "metadata": {},
   "outputs": [],
   "source": [
    "%%sql\n",
    "INSERT INTO med_data (Name, Age, Sex, \"Blood pressure\", \"Heart rate\") VALUES(\"Alan Smith\", 24, \"M\", \"120/70\", 78);\n",
    "INSERT INTO med_data (Name, Age, Sex, \"Blood pressure\", \"Heart rate\") VALUES(\"Maureen Gdiver\", 87, \"F\", \"156/82\", 82);\n",
    "INSERT INTO med_data (Name, Age, Sex, \"Blood pressure\", \"Heart rate\") VALUES(\"Adam Blythe\", 54, \"M\", \"132/73\", 72);\n",
    "INSERT INTO med_data (Name, Age, Sex, \"Blood pressure\", \"Heart rate\") VALUES(\"Darren Sanders\", 34, \"M\", \"155/67\", 67);\n",
    "INSERT INTO med_data (Name, Age, Sex, \"Blood pressure\", \"Heart rate\") VALUES(\"Sally-Ann Joyce\", 19, \"F\", \"121/72\", 65);"
   ]
  },
  {
   "cell_type": "code",
   "execution_count": null,
   "metadata": {},
   "outputs": [],
   "source": [
    "%%sql\n",
    "SELECT * FROM med_data;"
   ]
  },
  {
   "cell_type": "markdown",
   "metadata": {},
   "source": [
    "Notice that the <code>ID</code> column has automatically incremented (been added to) for each record. This provides a unique reference for each record. This way we can change records based on this number, rather than something like name, which may not be unique and thus affect more than one record."
   ]
  },
  {
   "cell_type": "markdown",
   "metadata": {},
   "source": [
    "<a id=\"schema\"></a>\n",
    "#### 2.1 Database schema  "
   ]
  },
  {
   "cell_type": "markdown",
   "metadata": {},
   "source": [
    "Each database has a <code>schema</code>. This represents the structure of the whole database. It shows the relationships between database entities (i.e. tables) and defines any constraints placed on the data. This can also be represented as a diagram. Below is an image from <a href=\"https://dbdiagram.io/d\" target=\"_blank\">dbdiagram.io</a> that gives an example of a database with 6 tables. It shows how they are related to each other and by which fields."
   ]
  },
  {
   "cell_type": "markdown",
   "metadata": {},
   "source": [
    "<img src=\"./intro_images/schema.png\" width=\"800\" />"
   ]
  },
  {
   "cell_type": "markdown",
   "metadata": {
    "collapsed": true
   },
   "source": [
    "<a id=\"rel\"></a>\n",
    "#### 2.2 Relationships"
   ]
  },
  {
   "cell_type": "markdown",
   "metadata": {},
   "source": [
    "There are three types of relationship:<br />\n",
    "<ul>\n",
    "    <li><strong>One-to-one:</strong> seen on the diagram as a number one (<code>1</code>) alone on the line connecting fields. A row in a table can have a single matching row in another table (and vise versa).</li>\n",
    "    <li><strong>One-to-Many/Many-to-One:</strong> <code>1</code> with a <code>&ast;</code> on the line. A row in one table can have many matching rows in another table. This is the most common type of relationship.</li>\n",
    "    <li><strong>Many-to-many</strong> <code>&ast;</code> to a <code>&ast;</code> on the diagram. As the names suggests rows have multiple matching rows in both tables.</li>\n",
    "</ul>"
   ]
  },
  {
   "cell_type": "markdown",
   "metadata": {},
   "source": [
    "A primary key linked to in another table is called a <code>foreign key</code>. We will look more at relationships later. Let's make another table in our database to store details of our patients' medication use. We will call this table <code>drug_table</code>. This will include the name of the medication they are taking, the route of administration (e.g. oral), how many times a day they take it and the dose of the medication. We will set up a relationship (one-to-many) between the <code>med_data</code> and the <code>drug_table</code>.  "
   ]
  },
  {
   "cell_type": "markdown",
   "metadata": {
    "solution2": "hidden",
    "solution2_first": true
   },
   "source": [
    "<div class=\"alert alert-block alert-info\">\n",
    "<b>Task 2:</b>\n",
    "<br> \n",
    "Why do you think a <code>one-to-many</code> relationship is suitable here?\n",
    "</div>"
   ]
  },
  {
   "cell_type": "markdown",
   "metadata": {
    "solution2": "hidden"
   },
   "source": [
    "Because each patient can have more than one medication prescribed, so a one-to-many/many-to-one relationship is the most suitable type to use in this situation."
   ]
  },
  {
   "cell_type": "code",
   "execution_count": null,
   "metadata": {},
   "outputs": [],
   "source": []
  },
  {
   "cell_type": "code",
   "execution_count": null,
   "metadata": {},
   "outputs": [],
   "source": [
    "%%sql\n",
    "DROP TABLE IF EXISTS drug_table;\n",
    "CREATE TABLE drug_table (\n",
    "    ID INTEGER NOT NULL PRIMARY KEY,\n",
    "    medication VARCHAR(255),\n",
    "    route VARCHAR(4), \n",
    "    \"freq per day\" INTEGER,\n",
    "    dose VARCHAR(255),\n",
    "    patient_id INTEGER,\n",
    "    FOREIGN KEY(patient_id) REFERENCES med_data(ID)\n",
    ");"
   ]
  },
  {
   "cell_type": "markdown",
   "metadata": {},
   "source": [
    "Note we have created an id for the patient to link the patient to the medication they take. We called this <code>patient_id</code> and specified the relationship to reference the <code>ID</code> field of the <code>med_data</code> table. Now lets put some data in the table."
   ]
  },
  {
   "cell_type": "code",
   "execution_count": null,
   "metadata": {},
   "outputs": [],
   "source": [
    "%%sql\n",
    "INSERT INTO drug_table (medication, route, \"freq per day\", dose, patient_id) VALUES(\"AMOXICILLIN\", \"PO\", 3, \"500mg\", 1);\n",
    "INSERT INTO drug_table (medication, route, \"freq per day\", dose, patient_id) VALUES(\"IRBESARTAN\", \"PO\", 1, \"150mg\", 2);\n",
    "INSERT INTO drug_table (medication, route, \"freq per day\", dose, patient_id) VALUES(\"DIGOXIN\", \"PO\", 1, \"1.5mg\", 2);\n",
    "INSERT INTO drug_table (medication, route, \"freq per day\", dose, patient_id) VALUES(\"SIMVASTATIN\", \"PO\", 1, \"40mg\", 3);\n",
    "INSERT INTO drug_table (medication, route, \"freq per day\", dose, patient_id) VALUES(\"RAMIPRIL\", \"PO\", 1, \"2.5mg\", 4);\n",
    "INSERT INTO drug_table (medication, route, \"freq per day\", dose, patient_id) VALUES(\"WARFARIN\", \"PO\", 1, \"variable\", 4);\n",
    "INSERT INTO drug_table (medication, route, \"freq per day\", dose, patient_id) VALUES(\"SENNA\", \"PO\", 1, \"15mg\", 4);\n",
    "INSERT INTO drug_table (medication, route, \"freq per day\", dose, patient_id) VALUES(\"None\", \"NA\", 0, \"NA\", 5);\n",
    "SELECT * FROM drug_table;"
   ]
  },
  {
   "cell_type": "markdown",
   "metadata": {},
   "source": [
    "This is what the relationship looks like visually. We can see that one patient (<code>1</code>) can have many (<code>&ast;</code>) medications. "
   ]
  },
  {
   "cell_type": "markdown",
   "metadata": {},
   "source": [
    "<img src=\"./intro_images/relate.png\" width=\"800\" />"
   ]
  },
  {
   "cell_type": "markdown",
   "metadata": {
    "solution2": "hidden",
    "solution2_first": true
   },
   "source": [
    "<div class=\"alert alert-block alert-info\">\n",
    "<b>Task 3:</b>\n",
    "<br> \n",
    "Go to <a href=\"https://dbdiagram.io/d\" target=\"_blank\">dbdiagram.io</a> and delete the code from the left hand pane. Add the code in the image below.\n",
    "<img src=\"./intro_images/io.png\" width=\"800\" />\n",
    "<br />\n",
    "Now try and add another table called <code>PMH</code> (Past Medical History) with a field called <code>history</code>. Create a <code>one-to-many</code> relationship between <code>med_data</code> and the new table. <strong>HINT:</strong> You just need to make a modified version of the <code>drug_table</code> table. \n",
    "</div>"
   ]
  },
  {
   "cell_type": "markdown",
   "metadata": {
    "collapsed": true,
    "solution2": "hidden"
   },
   "source": [
    "<code>\n",
    "Table PMH {\n",
    "  ID int\n",
    "  history varchar(255)\n",
    "  patient_id int [ref: > med_data.ID]\n",
    "}\n",
    "</code>"
   ]
  },
  {
   "cell_type": "markdown",
   "metadata": {
    "solution2": "hidden"
   },
   "source": [
    "<img src=\"./intro_images/answer.PNG\" width=\"800\" />"
   ]
  },
  {
   "cell_type": "markdown",
   "metadata": {},
   "source": [
    "Tools like this can be used to model our data before we spend time implementing a database. They can be useful for communication (i.e. with developers or stakeholders). They can also save a lot of wasted time by identifying logic issues, repetition of data and so on before costly development takes place."
   ]
  },
  {
   "cell_type": "markdown",
   "metadata": {
    "collapsed": true
   },
   "source": [
    "<div class=\"alert alert-success\">\n",
    "<b>Note:</b> We recommend always modelling databases before constructing them. This will save you a lot of time and effort in the long run.  \n",
    "</div>"
   ]
  },
  {
   "cell_type": "markdown",
   "metadata": {},
   "source": [
    "<a id=\"dates\"></a>\n",
    "#### 2.3 Dealing with dates and times"
   ]
  },
  {
   "cell_type": "markdown",
   "metadata": {},
   "source": [
    "Unlike some other versions of SQL, SQLite doesn't have any inbuilt date or time storage class. To get around this, it uses some inbuilt functions to overcome this limitation. We will look more at using functions in SQL in a later notebook. To create a table that stores the current date and time you can write something like this:"
   ]
  },
  {
   "cell_type": "code",
   "execution_count": null,
   "metadata": {},
   "outputs": [],
   "source": [
    "%%sql\n",
    "DROP TABLE IF EXISTS datetime_table;\n",
    "CREATE TABLE datetime_table (\n",
    "    ID INTEGER NOT NULL PRIMARY KEY,\n",
    "    name VARCHAR(255),\n",
    "    admission_date TEXT\n",
    ");\n",
    "\n",
    "INSERT INTO datetime_table (name, admission_date) VALUES (\"Paul Davidson\", datetime('now'));\n",
    "SELECT * FROM datetime_table;"
   ]
  },
  {
   "cell_type": "markdown",
   "metadata": {},
   "source": [
    "We can use the <code>date</code> and <code>time</code> functions to extract the individual dates and times from the admission date. Note the date is in the format YYYY-MM-DD. "
   ]
  },
  {
   "cell_type": "code",
   "execution_count": null,
   "metadata": {},
   "outputs": [],
   "source": [
    "%%sql\n",
    "SELECT date(admission_date) FROM datetime_table;"
   ]
  },
  {
   "cell_type": "code",
   "execution_count": null,
   "metadata": {},
   "outputs": [],
   "source": [
    "%%sql\n",
    "SELECT time(admission_date) FROM datetime_table;"
   ]
  },
  {
   "cell_type": "markdown",
   "metadata": {},
   "source": [
    "<div class=\"alert alert-success\">\n",
    "<b>Note:</b> Other versions of SQL (i.e. <code>MySQL</code> and <code>SQL Server</code>) support data types for storing dates and times directly. For example <code>DATE</code>, <code>DATETIME</code>, <code>TIMESTAMP</code> and <code>YEAR</code>. \n",
    "</div>"
   ]
  },
  {
   "cell_type": "markdown",
   "metadata": {},
   "source": [
    "<a id=\"constraints\"></a>\n",
    "#### 2.4 Constraints"
   ]
  },
  {
   "cell_type": "markdown",
   "metadata": {},
   "source": [
    "A constraint is a property given to a column that prevents the entry of inconsistent values into that field. This supports data integrity. You can also think of them as a set of rules that fields in a table must abide by. We have already seen some examples of constraints, such as: <code>PRIMARY KEY</code>, <code>FOREIGN KEY</code>, <code>UNIQUE</code> and <code>NOT NULL</code>, where a value must be present. Some other useful constraints are listed below with examples."
   ]
  },
  {
   "cell_type": "markdown",
   "metadata": {},
   "source": [
    "The <code>CHECK</code> constraint can be very useful in preventing incorrect data being added to a field. Let's say we wanted to constrain an entry for a hospital department. In this example, there are only 5 departments in the hospital. "
   ]
  },
  {
   "cell_type": "code",
   "execution_count": null,
   "metadata": {},
   "outputs": [],
   "source": [
    "%%sql\n",
    "DROP TABLE IF EXISTS staff_table;\n",
    "CREATE TABLE staff_table (\n",
    "    ID INTEGER NOT NULL PRIMARY KEY,\n",
    "    staff_name VARCHAR(255),\n",
    "    role VARCHAR(255), \n",
    "    dept_number INTEGER\n",
    ");\n",
    "\n",
    "INSERT INTO staff_table (staff_name, role, dept_number) VALUES(\"Paul Smith\", \"Consultant oncologist\", 72);\n",
    "SELECT * FROM staff_table;"
   ]
  },
  {
   "cell_type": "markdown",
   "metadata": {},
   "source": [
    "Here we were able to enter a department number of 72 when there should only be 5 departments. We can use <code>CHECK</code> to ensure the integrity of our data."
   ]
  },
  {
   "cell_type": "code",
   "execution_count": null,
   "metadata": {},
   "outputs": [],
   "source": [
    "%%sql\n",
    "DROP TABLE IF EXISTS staff_table;\n",
    "CREATE TABLE staff_table (\n",
    "    ID INTEGER NOT NULL PRIMARY KEY,\n",
    "    staff_name VARCHAR(255),\n",
    "    role VARCHAR(255), \n",
    "    dept_number INTEGER CHECK (dept_number > 0 AND dept_number < 6)\n",
    ");\n",
    "\n",
    "INSERT INTO staff_table (staff_name, role, dept_number) VALUES(\"Paul Smith\", \"Consultant oncologist\", 7);\n",
    "SELECT * FROM staff_table;"
   ]
  },
  {
   "cell_type": "markdown",
   "metadata": {},
   "source": [
    "If you scroll to the bottom of the error message you can see it mentions an integrity error <code>IntegrityError: (sqlite3.IntegrityError) CHECK constraint failed: staff_table</code>. Try changing the number to one between 1 and 5 and run the cell above again. \n",
    "\n",
    "We get a Python error because we are running the database in a Python notebook. Below is what the same error looks like if I try to enter department number 72 into the database using the DB Browser for SQLite tool. This shows an error message popup stating: <code>Error changing data: CHECK constraint failed: staff_table</code>."
   ]
  },
  {
   "cell_type": "markdown",
   "metadata": {},
   "source": [
    "<img src=\"./intro_images/check.png\" width=\"80%\" />"
   ]
  },
  {
   "cell_type": "markdown",
   "metadata": {},
   "source": [
    "Another useful constraint is the <code>DEFAULT</code> constraint that can be used to provide a default value if none are provided. Lets say we wanted to provide a tax code for our employees. We could add a default standard tax code that could be overwritten if there was some exception. For example:"
   ]
  },
  {
   "cell_type": "code",
   "execution_count": null,
   "metadata": {},
   "outputs": [],
   "source": [
    "%%sql\n",
    "DROP TABLE IF EXISTS staff_table;\n",
    "CREATE TABLE staff_table (\n",
    "    ID INTEGER NOT NULL PRIMARY KEY,\n",
    "    staff_name VARCHAR(255),\n",
    "    role VARCHAR(255), \n",
    "    dept_number INTEGER,\n",
    "    tax_code VARCHAR(20) DEFAULT \"1185L\"\n",
    ");\n",
    "\n",
    "INSERT INTO staff_table (staff_name, role, dept_number) VALUES(\"Paul Smith\", \"Consultant oncologist\", 4);\n",
    "SELECT * FROM staff_table;"
   ]
  },
  {
   "cell_type": "markdown",
   "metadata": {},
   "source": [
    "Here we provide a standard tax code for our employees. But we can still override this if needed, say if we had a staff member on an emergency tax code:"
   ]
  },
  {
   "cell_type": "code",
   "execution_count": null,
   "metadata": {},
   "outputs": [],
   "source": [
    "%%sql\n",
    "INSERT INTO staff_table (staff_name, role, dept_number, tax_code) VALUES(\"Ian Ducken\", \"Consultant ENT\", 2, \"1150 W1\");\n",
    "SELECT * FROM staff_table;"
   ]
  },
  {
   "cell_type": "markdown",
   "metadata": {
    "solution2": "hidden",
    "solution2_first": true
   },
   "source": [
    "<div class=\"alert alert-block alert-info\">\n",
    "<b>Task 4:</b>\n",
    "<br> \n",
    "Create a new table called <code>nurse_band5</code>. At the time of writing this guide the salary for a band 5 (staff nurse) in the UK's NHS was between <strong>£24,907</strong> and <strong>£30,615</strong>. Make a constraint on the table so that salaries entered into the table in the field <code>salary</code> must be within this pay range. Also include a field called <code>staff_name</code> and one called <code>work_area</code> that <strong>cannot</strong> be empty, showing which ward or department the nurse works in. Finally add some data to the table to see if violating the constraints causes an error. \n",
    "</div>"
   ]
  },
  {
   "cell_type": "code",
   "execution_count": null,
   "metadata": {
    "solution2": "hidden"
   },
   "outputs": [],
   "source": [
    "%%sql\n",
    "DROP TABLE IF EXISTS nurse_band5;\n",
    "CREATE TABLE nurse_band5 (\n",
    "    ID INTEGER NOT NULL PRIMARY KEY,\n",
    "    staff_name VARCHAR(255),\n",
    "    work_area VARCHAR(255) NOT NULL,\n",
    "    salary INTEGER CHECK (salary >= 24907 AND salary <= 30615)\n",
    ");"
   ]
  },
  {
   "cell_type": "code",
   "execution_count": null,
   "metadata": {
    "solution2": "hidden"
   },
   "outputs": [],
   "source": [
    "%%sql\n",
    "INSERT INTO nurse_band5 (staff_name, work_area, salary) VALUES(\"Pauline Fowler\", \"Ward 12\", 37000);\n",
    "SELECT * FROM nurse_band5;"
   ]
  },
  {
   "cell_type": "code",
   "execution_count": null,
   "metadata": {},
   "outputs": [],
   "source": [
    "%%sql # type in your code below\n"
   ]
  },
  {
   "cell_type": "code",
   "execution_count": null,
   "metadata": {},
   "outputs": [],
   "source": [
    "%%sql # type in your code below\n"
   ]
  },
  {
   "cell_type": "markdown",
   "metadata": {
    "collapsed": true
   },
   "source": [
    "### Notebook details\n",
    "<br>\n",
    "<i>Notebook created by <strong>Dr. Alan Davies</strong>\n",
    "\n",
    "Publish date: March 2021<br>\n",
    "Review date: March 2022</i>\n",
    "\n",
    "Please give your feedback using the button below:"
   ]
  },
  {
   "cell_type": "markdown",
   "metadata": {},
   "source": [
    "<a class=\"typeform-share button\" href=\"https://hub11.typeform.com/to/SsJEq1tQ\" data-mode=\"popup\" style=\"display:inline-block;text-decoration:none;background-color:#3A7685;color:white;cursor:pointer;font-family:Helvetica,Arial,sans-serif;font-size:18px;line-height:45px;text-align:center;margin:0;height:45px;padding:0px 30px;border-radius:22px;max-width:100%;white-space:nowrap;overflow:hidden;text-overflow:ellipsis;font-weight:bold;-webkit-font-smoothing:antialiased;-moz-osx-font-smoothing:grayscale;\" target=\"_blank\">Rate this notebook </a> <script> (function() { var qs,js,q,s,d=document, gi=d.getElementById, ce=d.createElement, gt=d.getElementsByTagName, id=\"typef_orm_share\", b=\"https://embed.typeform.com/\"; if(!gi.call(d,id)){ js=ce.call(d,\"script\"); js.id=id; js.src=b+\"embed.js\"; q=gt.call(d,\"script\")[0]; q.parentNode.insertBefore(js,q) } })() </script>"
   ]
  },
  {
   "cell_type": "markdown",
   "metadata": {},
   "source": [
    "## Notes:"
   ]
  },
  {
   "cell_type": "code",
   "execution_count": null,
   "metadata": {},
   "outputs": [],
   "source": []
  },
  {
   "cell_type": "code",
   "execution_count": null,
   "metadata": {},
   "outputs": [],
   "source": []
  },
  {
   "cell_type": "code",
   "execution_count": null,
   "metadata": {},
   "outputs": [],
   "source": []
  }
 ],
 "metadata": {
  "hide_input": false,
  "kernelspec": {
   "display_name": "Python 3",
   "language": "python",
   "name": "python3"
  },
  "language_info": {
   "codemirror_mode": {
    "name": "ipython",
    "version": 3
   },
   "file_extension": ".py",
   "mimetype": "text/x-python",
   "name": "python",
   "nbconvert_exporter": "python",
   "pygments_lexer": "ipython3",
   "version": "3.7.3"
  }
 },
 "nbformat": 4,
 "nbformat_minor": 2
}
