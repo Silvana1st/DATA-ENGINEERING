{
 "cells": [
  {
   "cell_type": "markdown",
   "metadata": {},
   "source": [
    "<img src=\"./intro_images/HDSbanner.jpg\" width=\"100%\" align=\"left\" />"
   ]
  },
  {
   "cell_type": "markdown",
   "metadata": {},
   "source": [
    "<table style=\"float:right;\">\n",
    "    <tr>\n",
    "        <td>                      \n",
    "            <div style=\"text-align: right\"><a href=\"https://alandavies.netlify.com\" target=\"_blank\">Dr Alan Davies</a></div>\n",
    "            <div style=\"text-align: right\">Senior Lecturer health data science</div>\n",
    "            <div style=\"text-align: right\">University of Manchester</div>\n",
    "         </td>\n",
    "         <td>\n",
    "             <img src=\"./intro_images/alan.PNG\" width=\"30%\" />\n",
    "         </td>\n",
    "     </tr>\n",
    "</table>"
   ]
  },
  {
   "cell_type": "markdown",
   "metadata": {},
   "source": [
    "# 3.0 Conditional queries\n",
    "****"
   ]
  },
  {
   "cell_type": "markdown",
   "metadata": {},
   "source": [
    "#### About this Notebook\n",
    "This notebook introduces querying data by condition in order to retrieve useful subsets of required data from a larger database."
   ]
  },
  {
   "cell_type": "markdown",
   "metadata": {},
   "source": [
    "<div class=\"alert alert-block alert-warning\"><b>Learning Objectives:</b> \n",
    "<br/> At the end of this notebook you will be able to:\n",
    "    \n",
    "- Investigate and practice how subsets of data can be obtained using conditional queries to select required data\n",
    "\n",
    "- Explore how data can be combined from several tables\n",
    "\n",
    "</div> "
   ]
  },
  {
   "cell_type": "markdown",
   "metadata": {},
   "source": [
    "<a id=\"top\"></a>\n",
    "\n",
    "<b>Table of contents</b><br>\n",
    "\n",
    "3.1 [Conditional queries](#cqueries)\n",
    "\n",
    "3.2 [Dealing with text](#text)\n",
    "\n",
    "3.3 [Combining data with conditional queries](#comb)"
   ]
  },
  {
   "cell_type": "markdown",
   "metadata": {},
   "source": [
    "Let's start by recreating the database we left off with last time. Run the next few cells to set up the database with the two tables <code>med_data</code> and <code>drug_table</code>. "
   ]
  },
  {
   "cell_type": "code",
   "execution_count": null,
   "metadata": {},
   "outputs": [],
   "source": [
    "%load_ext sql\n",
    "%sql sqlite://"
   ]
  },
  {
   "cell_type": "code",
   "execution_count": null,
   "metadata": {},
   "outputs": [],
   "source": [
    "%%sql\n",
    "\n",
    "DROP TABLE IF EXISTS med_data;\n",
    "CREATE TABLE med_data (\n",
    "    ID INTEGER NOT NULL PRIMARY KEY,\n",
    "    Name VARCHAR(255),\n",
    "    Age INTEGER,\n",
    "    Sex CHAR,\n",
    "    \"Blood pressure\" CHAR(7),\n",
    "    \"Heart rate\" INTEGER\n",
    ");\n",
    "\n",
    "INSERT INTO med_data (Name, Age, Sex, \"Blood pressure\", \"Heart rate\") VALUES(\"Alan Smith\", 24, \"M\", \"120/70\", 78);\n",
    "INSERT INTO med_data (Name, Age, Sex, \"Blood pressure\", \"Heart rate\") VALUES(\"Maureen Gdiver\", 87, \"F\", \"156/82\", 82);\n",
    "INSERT INTO med_data (Name, Age, Sex, \"Blood pressure\", \"Heart rate\") VALUES(\"Adam Blythe\", 54, \"M\", \"132/73\", 72);\n",
    "INSERT INTO med_data (Name, Age, Sex, \"Blood pressure\", \"Heart rate\") VALUES(\"Darren Sanders\", 34, \"M\", \"155/67\", 67);\n",
    "INSERT INTO med_data (Name, Age, Sex, \"Blood pressure\", \"Heart rate\") VALUES(\"Sally-Ann Joyce\", 19, \"F\", \"121/72\", 65);\n",
    "\n",
    "SELECT * FROM med_data;"
   ]
  },
  {
   "cell_type": "code",
   "execution_count": null,
   "metadata": {},
   "outputs": [],
   "source": [
    "%%sql\n",
    "\n",
    "DROP TABLE IF EXISTS drug_table;\n",
    "CREATE TABLE drug_table (\n",
    "    ID INTEGER NOT NULL PRIMARY KEY,\n",
    "    medication VARCHAR(255),\n",
    "    route VARCHAR(4), \n",
    "    \"freq per day\" INTEGER,\n",
    "    dose VARCHAR(255),\n",
    "    patient_id INTEGER,\n",
    "    FOREIGN KEY(patient_id) REFERENCES med_data(ID)\n",
    ");\n",
    "\n",
    "INSERT INTO drug_table (medication, route, \"freq per day\", dose, patient_id) VALUES(\"AMOXICILLIN\", \"PO\", 3, \"500mg\", 1);\n",
    "INSERT INTO drug_table (medication, route, \"freq per day\", dose, patient_id) VALUES(\"IRBESARTAN\", \"PO\", 1, \"150mg\", 2);\n",
    "INSERT INTO drug_table (medication, route, \"freq per day\", dose, patient_id) VALUES(\"DIGOXIN\", \"PO\", 1, \"1.5mg\", 2);\n",
    "INSERT INTO drug_table (medication, route, \"freq per day\", dose, patient_id) VALUES(\"SIMVASTATIN\", \"PO\", 1, \"40mg\", 3);\n",
    "INSERT INTO drug_table (medication, route, \"freq per day\", dose, patient_id) VALUES(\"RAMIPRIL\", \"PO\", 1, \"2.5mg\", 4);\n",
    "INSERT INTO drug_table (medication, route, \"freq per day\", dose, patient_id) VALUES(\"WARFARIN\", \"PO\", 1, \"variable\", 4);\n",
    "INSERT INTO drug_table (medication, route, \"freq per day\", dose, patient_id) VALUES(\"SENNA\", \"PO\", 1, \"15mg\", 4);\n",
    "INSERT INTO drug_table (medication, route, \"freq per day\", dose, patient_id) VALUES(\"None\", \"NA\", 0, \"NA\", 5);\n",
    "\n",
    "SELECT * FROM drug_table;"
   ]
  },
  {
   "cell_type": "markdown",
   "metadata": {},
   "source": [
    "<a id=\"cqueries\"></a>\n",
    "#### 3.1 Conditional queries"
   ]
  },
  {
   "cell_type": "markdown",
   "metadata": {},
   "source": [
    "Queries are good for asking questions of the data. You probably wouldn't want to look through an entire database to answer some question. Instead you would like to see a <code>subset</code> of the data. For example lets say we wanted to see all the patients who had a heart rate above 70 beats per minute. We could write a query for this."
   ]
  },
  {
   "cell_type": "code",
   "execution_count": null,
   "metadata": {},
   "outputs": [],
   "source": [
    "%%sql\n",
    "SELECT ID, name, \"Heart rate\" FROM med_data WHERE \"Heart rate\" > 70;"
   ]
  },
  {
   "cell_type": "markdown",
   "metadata": {},
   "source": [
    "Here we are retrieving a subset of the data containing the patients ID, name and heart rate for all records where the heart rate is greater than (>) 70 bpm."
   ]
  },
  {
   "cell_type": "markdown",
   "metadata": {
    "solution2": "hidden",
    "solution2_first": true
   },
   "source": [
    "<div class=\"alert alert-block alert-info\">\n",
    "<b>Task 1:</b>\n",
    "<br> \n",
    "Have a go at writing a query to return the same fields but for heart rates less than 70 bpm.\n",
    "</div>"
   ]
  },
  {
   "cell_type": "code",
   "execution_count": null,
   "metadata": {
    "solution2": "hidden"
   },
   "outputs": [],
   "source": [
    "%%sql\n",
    "SELECT ID, name, \"Heart rate\" FROM med_data WHERE \"Heart rate\" < 70;"
   ]
  },
  {
   "cell_type": "code",
   "execution_count": null,
   "metadata": {},
   "outputs": [],
   "source": [
    "%%sql # type in your code below\n"
   ]
  },
  {
   "cell_type": "markdown",
   "metadata": {},
   "source": [
    "<div class=\"alert alert-success\">\n",
    "<b>Note:</b> For fields with spaces in the field name we use quotation marks e.g. <code>\"Blood pressure\"</code>. This is not necessary with fields that have no spaces, e.g. <code>name</code>.\n",
    "</div>"
   ]
  },
  {
   "cell_type": "markdown",
   "metadata": {
    "solution2": "hidden",
    "solution2_first": true
   },
   "source": [
    "<div class=\"alert alert-block alert-info\">\n",
    "<b>Task 2:</b>\n",
    "<br> \n",
    "Can we write a similar query for a patient's blood pressure? If not why?\n",
    "</div>"
   ]
  },
  {
   "cell_type": "markdown",
   "metadata": {
    "solution2": "hidden"
   },
   "source": [
    "No, because we are currently storing the blood pressure as text and it would have no meaning to apply operators that work with numbers on a text field."
   ]
  },
  {
   "cell_type": "markdown",
   "metadata": {},
   "source": [
    "Let's remove the blood pressure column from the table and add 2 new columns with the <code>systolic</code> (top number) and <code>diastolic</code> (bottom number) blood pressure values. \n",
    "\n",
    "We do this by first making a new temporary table with the same fields minus the one we want to delete. We then insert the data from the selected fields of the <code>med_data</code> table into this new temporary table. After that we delete the old <code>med_data</code> table using the <code>DROP TABLE</code> command. Finally we rename our temporary table back to <code>med_data</code>."
   ]
  },
  {
   "cell_type": "code",
   "execution_count": null,
   "metadata": {},
   "outputs": [],
   "source": [
    "%%sql\n",
    "\n",
    "DROP TABLE IF EXISTS tmp_table;\n",
    "CREATE TABLE tmp_table (\n",
    "    ID INTEGER NOT NULL PRIMARY KEY,\n",
    "    Name VARCHAR(255),\n",
    "    Age INTEGER,\n",
    "    Sex CHAR,\n",
    "    \"Heart rate\" INTEGER\n",
    ");\n",
    "\n",
    "INSERT INTO tmp_table SELECT ID, Name, Age, Sex, \"Heart rate\" FROM med_data; \n",
    "DROP TABLE IF EXISTS med_data;\n",
    "ALTER TABLE tmp_table RENAME TO med_data;\n",
    "SELECT * FROM med_data;"
   ]
  },
  {
   "cell_type": "markdown",
   "metadata": {},
   "source": [
    "<div class=\"alert alert-success\">\n",
    "<b>Note:</b> This might seem more complicated than necessary. This is because SQLite has limited support for <code>ALTER TABLE</code>. In other versions of SQL you can simply do <code>ALTER TABLE med_data DROP COLUMN \"Blood pressure\";</code>\n",
    "</div>"
   ]
  },
  {
   "cell_type": "markdown",
   "metadata": {},
   "source": [
    "We can now add the two new columns and populate them with the correct data."
   ]
  },
  {
   "cell_type": "code",
   "execution_count": null,
   "metadata": {},
   "outputs": [],
   "source": [
    "%%sql\n",
    "ALTER TABLE med_data ADD COLUMN sys INTEGER;\n",
    "ALTER TABLE med_data ADD COLUMN dia INTEGER;"
   ]
  },
  {
   "cell_type": "code",
   "execution_count": null,
   "metadata": {},
   "outputs": [],
   "source": [
    "%%sql\n",
    "UPDATE med_data SET sys = 120 WHERE ID = 1;\n",
    "UPDATE med_data SET sys = 156 WHERE ID = 2;\n",
    "UPDATE med_data SET sys = 132 WHERE ID = 3;\n",
    "UPDATE med_data SET sys = 155 WHERE ID = 4;\n",
    "UPDATE med_data SET sys = 121 WHERE ID = 5;\n",
    "\n",
    "UPDATE med_data SET dia = 70 WHERE ID = 1;\n",
    "UPDATE med_data SET dia = 82 WHERE ID = 2;\n",
    "UPDATE med_data SET dia = 73 WHERE ID = 3;\n",
    "UPDATE med_data SET dia = 67 WHERE ID = 4;\n",
    "UPDATE med_data SET dia = 72 WHERE ID = 5;\n",
    "SELECT * FROM med_data;"
   ]
  },
  {
   "cell_type": "markdown",
   "metadata": {},
   "source": [
    "Grade 1 or mild hypertension is defined as a systolic blood pressure between and including 140 and 159. We can write a query to find all the patients in our database with grade 1 hypertension."
   ]
  },
  {
   "cell_type": "code",
   "execution_count": null,
   "metadata": {},
   "outputs": [],
   "source": [
    "%%sql\n",
    "SELECT Name, sys FROM med_data WHERE sys >= 140 AND sys <=159;"
   ]
  },
  {
   "cell_type": "markdown",
   "metadata": {
    "solution2": "hidden",
    "solution2_first": true
   },
   "source": [
    "<div class=\"alert alert-block alert-info\">\n",
    "<b>Task 3:</b>\n",
    "<br> \n",
    "We can define hypertension (high blood pressure) as follows:\n",
    "<br />\n",
    "<table class=\"table-bordered\">\n",
    "<thead>\n",
    "<th>Grade</th>\n",
    "<th>Systolic (mmHG)</th>\n",
    "<th>Diastolic (mmHG)</th>\n",
    "</thead>\n",
    "<tbody>\n",
    "<tr>\n",
    "<td>Normal/optimal</td>\n",
    "<td>&lt; 140</td>\n",
    "<td>&lt; 90</td>\n",
    "</tr>\n",
    "<tr>\n",
    "<td>Grade 1 (mild)</td>\n",
    "<td>140-159</td>\n",
    "<td>90-99</td>\n",
    "</tr>\n",
    "<tr>\n",
    "<td>Grade 2 (moderate)</td>\n",
    "<td>160-179</td>\n",
    "<td>100-109</td>\n",
    "</tr>\n",
    "<tr>\n",
    "<td>Grade 3 (severe)</td>\n",
    "<td>&ge; 180</td>\n",
    "<td>&ge; 110</td>\n",
    "</tr>\n",
    "</tbody>\n",
    "</table>\n",
    "<br />\n",
    "Blood pressure is typically measured in millimeters of mercury (mmHG). The top number (systolic) is when blood is being pumped (squeezed). The bottom number (diastolic) is when the vessels are relaxed.<br /><br />  \n",
    "Write queries to see how many patients fit into each of the categories in the table (using just the systolic column). We already did grade 1 in the example above.\n",
    "</div>"
   ]
  },
  {
   "cell_type": "code",
   "execution_count": null,
   "metadata": {
    "solution2": "hidden"
   },
   "outputs": [],
   "source": [
    "%%sql\n",
    "SELECT Name, sys FROM med_data WHERE sys < 140;"
   ]
  },
  {
   "cell_type": "code",
   "execution_count": null,
   "metadata": {
    "solution2": "hidden"
   },
   "outputs": [],
   "source": [
    "%%sql\n",
    "SELECT Name, sys FROM med_data WHERE sys >= 140 AND sys <=159;"
   ]
  },
  {
   "cell_type": "code",
   "execution_count": null,
   "metadata": {
    "solution2": "hidden"
   },
   "outputs": [],
   "source": [
    "%%sql\n",
    "SELECT Name, sys FROM med_data WHERE sys >= 160 AND sys <=179;"
   ]
  },
  {
   "cell_type": "code",
   "execution_count": null,
   "metadata": {
    "solution2": "hidden"
   },
   "outputs": [],
   "source": [
    "%%sql\n",
    "SELECT Name, sys FROM med_data WHERE sys >= 180;"
   ]
  },
  {
   "cell_type": "code",
   "execution_count": null,
   "metadata": {},
   "outputs": [],
   "source": [
    "%%sql # type in your code below\n"
   ]
  },
  {
   "cell_type": "code",
   "execution_count": null,
   "metadata": {},
   "outputs": [],
   "source": [
    "%%sql # type in your code below\n"
   ]
  },
  {
   "cell_type": "code",
   "execution_count": null,
   "metadata": {},
   "outputs": [],
   "source": [
    "%%sql # type in your code below\n"
   ]
  },
  {
   "cell_type": "code",
   "execution_count": null,
   "metadata": {},
   "outputs": [],
   "source": [
    "%%sql # type in your code below\n"
   ]
  },
  {
   "cell_type": "markdown",
   "metadata": {},
   "source": [
    "Another way of accomplishing a similar thing is to use the <code>CASE</code> clause which generates an additional results column based on the selection criteria. The <code>CASE</code> clause works in a similar way to the if/else statements we used in Python.  Here we can grade each person according to the hypertension criteria. "
   ]
  },
  {
   "cell_type": "code",
   "execution_count": null,
   "metadata": {},
   "outputs": [],
   "source": [
    "%%sql\n",
    "SELECT Name, sys, \n",
    "CASE\n",
    "WHEN sys > 140 THEN 'Grade 1'\n",
    "WHEN sys > 159 THEN 'Grade 2'\n",
    "WHEN sys >= 180 THEN 'Grade 3'\n",
    "ELSE 'Normal'\n",
    "END as 'BP classification'\n",
    "FROM med_data;"
   ]
  },
  {
   "cell_type": "markdown",
   "metadata": {
    "solution2": "hidden",
    "solution2_first": true
   },
   "source": [
    "<div class=\"alert alert-block alert-info\">\n",
    "<b>Task 4:</b>\n",
    "<br> \n",
    "Write queries for the following:<br />\n",
    "1. Get all the males (return name and sex) from <code>med_data</code>.<br />\n",
    "2. Get all patients over the age of 50 years (return name and age) from <code>med_data</code>.<br />\n",
    "3. Get all medications that have to be taken more than once a day (return medication and frequency) from <code>drug_table</code>.\n",
    "</div>"
   ]
  },
  {
   "cell_type": "code",
   "execution_count": null,
   "metadata": {
    "solution2": "hidden"
   },
   "outputs": [],
   "source": [
    "%%sql \n",
    "SELECT Name, Sex FROM med_data WHERE Sex = \"M\";"
   ]
  },
  {
   "cell_type": "code",
   "execution_count": null,
   "metadata": {
    "solution2": "hidden"
   },
   "outputs": [],
   "source": [
    "%%sql\n",
    "SELECT Name, Age FROM med_data WHERE Age > 50;"
   ]
  },
  {
   "cell_type": "code",
   "execution_count": null,
   "metadata": {
    "solution2": "hidden"
   },
   "outputs": [],
   "source": [
    "%%sql\n",
    "SELECT medication, \"freq per day\" FROM drug_table WHERE \"freq per day\" > 1;"
   ]
  },
  {
   "cell_type": "code",
   "execution_count": null,
   "metadata": {},
   "outputs": [],
   "source": [
    "%%sql # type in your code below\n"
   ]
  },
  {
   "cell_type": "code",
   "execution_count": null,
   "metadata": {},
   "outputs": [],
   "source": [
    "%%sql # type in your code below\n"
   ]
  },
  {
   "cell_type": "code",
   "execution_count": null,
   "metadata": {},
   "outputs": [],
   "source": [
    "%%sql # type in your code below\n"
   ]
  },
  {
   "cell_type": "markdown",
   "metadata": {},
   "source": [
    "<a id=\"text\"></a>\n",
    "#### 3.2 Dealing with text"
   ]
  },
  {
   "cell_type": "markdown",
   "metadata": {
    "collapsed": true
   },
   "source": [
    "We have looked at how to extract subsets of data from tables based on numerical values. Another useful operation is being able to extract data based on textual conditions. This can be more challenging depending on how the data is entered. Two of the most useful clauses/operators are <code>LIKE</code> and <code>GLOB</code>."
   ]
  },
  {
   "cell_type": "code",
   "execution_count": null,
   "metadata": {},
   "outputs": [],
   "source": [
    "%%sql\n",
    "SELECT * FROM med_data;"
   ]
  },
  {
   "cell_type": "markdown",
   "metadata": {},
   "source": [
    "Let's say we were not sure exactly how <code>Maureen Gdiver's</code> name was spelled. We can use <code>LIKE</code> to retrieve all the similar data. For example:"
   ]
  },
  {
   "cell_type": "code",
   "execution_count": null,
   "metadata": {},
   "outputs": [],
   "source": [
    "%%sql\n",
    "SELECT * FROM med_data WHERE Name LIKE \"mau%\";"
   ]
  },
  {
   "cell_type": "markdown",
   "metadata": {},
   "source": [
    "<div class=\"alert alert-success\">\n",
    "<b>Note:</b> It is common practice to store first and last name in separate fields to facilitate searching more easily (i.e. by last or first name).\n",
    "</div>"
   ]
  },
  {
   "cell_type": "markdown",
   "metadata": {},
   "source": [
    "Firstly, <code>LIKE</code> is not case sensitive so we didn't need to use the capital M for Maureen's first name. Also, we are using the <code>%</code> wildcard to select all names that start with <code>mau</code> but can end with anything. If we just wanted all people with names beginning with 'A' we could write:"
   ]
  },
  {
   "cell_type": "code",
   "execution_count": null,
   "metadata": {},
   "outputs": [],
   "source": [
    "%%sql\n",
    "SELECT * FROM med_data WHERE Name LIKE \"a%\";"
   ]
  },
  {
   "cell_type": "markdown",
   "metadata": {
    "solution2": "hidden",
    "solution2_first": true
   },
   "source": [
    "<div class=\"alert alert-block alert-info\">\n",
    "<b>Task 5:</b>\n",
    "<br> \n",
    "Using the <code>%</code> wildcard and <code>LIKE</code>, write a query to return all the peoples names that <strong>end</strong> with the letter 'e'.\n",
    "</div>"
   ]
  },
  {
   "cell_type": "code",
   "execution_count": null,
   "metadata": {
    "solution2": "hidden"
   },
   "outputs": [],
   "source": [
    "%%sql\n",
    "SELECT * FROM med_data WHERE Name LIKE \"%e\";"
   ]
  },
  {
   "cell_type": "code",
   "execution_count": null,
   "metadata": {},
   "outputs": [],
   "source": [
    "%%sql # type in your code below\n"
   ]
  },
  {
   "cell_type": "markdown",
   "metadata": {},
   "source": [
    "You can also use the wildcard at either end of text if you are not sure about the beginning or end, but know the middle. For example."
   ]
  },
  {
   "cell_type": "code",
   "execution_count": null,
   "metadata": {},
   "outputs": [],
   "source": [
    "%%sql\n",
    "SELECT * FROM med_data WHERE Name LIKE \"%reen%\";"
   ]
  },
  {
   "cell_type": "markdown",
   "metadata": {},
   "source": [
    "<div class=\"alert alert-success\">\n",
    "<b>Note:</b> We can also use the <code>&#95;</code> wildcard when we want to limit results to a known number of characters. For example <code>WHERE Name LIKE \"ada&#95;\"</code> will get all names beginning with 'ada' that end in anything, but must be only 4 characters in length. \n",
    "</div>"
   ]
  },
  {
   "cell_type": "markdown",
   "metadata": {},
   "source": [
    "Another useful way of searching for text patterns is with <code>GLOB</code>. This lets us check for zero or more characters (<code>*</code>) and/or with brackets (<code>[]</code>) to match any character in the list contained within the brackets. For example using the <code>drug_table</code>. "
   ]
  },
  {
   "cell_type": "code",
   "execution_count": null,
   "metadata": {},
   "outputs": [],
   "source": [
    "%%sql\n",
    "SELECT * FROM drug_table;"
   ]
  },
  {
   "cell_type": "markdown",
   "metadata": {},
   "source": [
    "Let's return all the <code>dose</code> values with <code>mg</code> in them. Note that <code>GLOB</code> is case sensitive. "
   ]
  },
  {
   "cell_type": "code",
   "execution_count": null,
   "metadata": {},
   "outputs": [],
   "source": [
    "%%sql\n",
    "SELECT * FROM drug_table WHERE dose GLOB \"*mg\";"
   ]
  },
  {
   "cell_type": "markdown",
   "metadata": {},
   "source": [
    "We could return all the drug names from A to E."
   ]
  },
  {
   "cell_type": "code",
   "execution_count": null,
   "metadata": {},
   "outputs": [],
   "source": [
    "%%sql\n",
    "SELECT * FROM drug_table WHERE medication GLOB \"[A-E]*\";"
   ]
  },
  {
   "cell_type": "markdown",
   "metadata": {},
   "source": [
    "Or all the drug names that <strong>do not</strong> start with A to E."
   ]
  },
  {
   "cell_type": "code",
   "execution_count": null,
   "metadata": {},
   "outputs": [],
   "source": [
    "%%sql\n",
    "SELECT * FROM drug_table WHERE medication GLOB \"[^A-E]*\";"
   ]
  },
  {
   "cell_type": "markdown",
   "metadata": {},
   "source": [
    "We can also use the <code>?</code> wildcard to specify a certain position (i.e. which character number in a string of text). For example, if we want <code>mg</code> to be in position 3 (as in 40mg and 15mg)."
   ]
  },
  {
   "cell_type": "code",
   "execution_count": null,
   "metadata": {},
   "outputs": [],
   "source": [
    "%%sql\n",
    "SELECT * FROM drug_table WHERE dose GLOB \"??mg\";"
   ]
  },
  {
   "cell_type": "markdown",
   "metadata": {
    "solution2": "hidden",
    "solution2_first": true
   },
   "source": [
    "<div class=\"alert alert-block alert-info\">\n",
    "<b>Task 6:</b>\n",
    "<br> \n",
    "Write a query to return all the medications details that end in 'IN'.\n",
    "</div>"
   ]
  },
  {
   "cell_type": "code",
   "execution_count": null,
   "metadata": {
    "solution2": "hidden"
   },
   "outputs": [],
   "source": [
    "%%sql\n",
    "SELECT * FROM drug_table WHERE medication GLOB \"*IN\";"
   ]
  },
  {
   "cell_type": "code",
   "execution_count": null,
   "metadata": {},
   "outputs": [],
   "source": [
    "%%sql # type in your code below\n"
   ]
  },
  {
   "cell_type": "markdown",
   "metadata": {},
   "source": [
    "<a id=\"comb\"></a>\n",
    "#### 3.3 Combining data with conditional queries"
   ]
  },
  {
   "cell_type": "markdown",
   "metadata": {},
   "source": [
    "We can also combine data from both our tables using a <code>join</code>. We can construct a query to check if all the people who are hypertensive (i.e. have high blood pressure) are prescribed an antihypertensive (blood pressure medication) by combining data from both tables."
   ]
  },
  {
   "cell_type": "code",
   "execution_count": null,
   "metadata": {},
   "outputs": [],
   "source": [
    "%%sql \n",
    "SELECT Name, sys, medication FROM med_data \n",
    "INNER JOIN drug_table ON drug_table.patient_id = med_data.Id \n",
    "WHERE med_data.sys > 140;"
   ]
  },
  {
   "cell_type": "markdown",
   "metadata": {},
   "source": [
    "<div class=\"alert alert-success\">\n",
    "<b>Note:</b> To be clear about which table a field is in, we use a dot. The convention is table name (dot) field name. e.g. <code>drug_table.patient_id</code>.\n",
    "</div>"
   ]
  },
  {
   "cell_type": "markdown",
   "metadata": {
    "solution2": "hidden",
    "solution2_first": true
   },
   "source": [
    "<div class=\"alert alert-block alert-info\">\n",
    "<b>Task 7:</b>\n",
    "<br> \n",
    "Which items of medication presented in the last query are for the treatment of hypertension (high blood pressure)? Go to the <a href=\"https://bnf.nice.org.uk/\" target=\"_blank\">British National Formulary (BNF)</a> and search for the medications. Look at their indications for use.  \n",
    "</div>"
   ]
  },
  {
   "cell_type": "markdown",
   "metadata": {
    "solution2": "hidden"
   },
   "source": [
    "<ul>\n",
    "<li>IRBESARTAN</li>\n",
    "<li>RAMIPRIL</li>\n",
    "</ul>"
   ]
  },
  {
   "cell_type": "markdown",
   "metadata": {},
   "source": [
    "There are many different operators that can be used in SQL for arithmetic, comparison and logic. To see a complete list, take a look at this link: <a href=\"https://www.w3schools.com/sql/sql_operators.asp\" target=\"_blank\">SQL operators</a>. "
   ]
  },
  {
   "cell_type": "markdown",
   "metadata": {
    "collapsed": true
   },
   "source": [
    "### Notebook details\n",
    "<br>\n",
    "<i>Notebook created by <strong>Dr. Alan Davies</strong> \n",
    "\n",
    "Publish date: March 2021<br>\n",
    "Review date: March 2022</i>\n",
    "\n",
    "Please give your feedback using the button below:"
   ]
  },
  {
   "cell_type": "markdown",
   "metadata": {},
   "source": [
    "<a class=\"typeform-share button\" href=\"https://hub11.typeform.com/to/xp1jIqvI\" data-mode=\"popup\" style=\"display:inline-block;text-decoration:none;background-color:#3A7685;color:white;cursor:pointer;font-family:Helvetica,Arial,sans-serif;font-size:18px;line-height:45px;text-align:center;margin:0;height:45px;padding:0px 30px;border-radius:22px;max-width:100%;white-space:nowrap;overflow:hidden;text-overflow:ellipsis;font-weight:bold;-webkit-font-smoothing:antialiased;-moz-osx-font-smoothing:grayscale;\" target=\"_blank\">Rate this notebook </a> <script> (function() { var qs,js,q,s,d=document, gi=d.getElementById, ce=d.createElement, gt=d.getElementsByTagName, id=\"typef_orm_share\", b=\"https://embed.typeform.com/\"; if(!gi.call(d,id)){ js=ce.call(d,\"script\"); js.id=id; js.src=b+\"embed.js\"; q=gt.call(d,\"script\")[0]; q.parentNode.insertBefore(js,q) } })() </script>"
   ]
  },
  {
   "cell_type": "markdown",
   "metadata": {},
   "source": [
    "## Notes:"
   ]
  },
  {
   "cell_type": "code",
   "execution_count": null,
   "metadata": {},
   "outputs": [],
   "source": []
  },
  {
   "cell_type": "code",
   "execution_count": null,
   "metadata": {},
   "outputs": [],
   "source": []
  },
  {
   "cell_type": "code",
   "execution_count": null,
   "metadata": {},
   "outputs": [],
   "source": []
  }
 ],
 "metadata": {
  "hide_input": false,
  "kernelspec": {
   "display_name": "Python 3",
   "language": "python",
   "name": "python3"
  },
  "language_info": {
   "codemirror_mode": {
    "name": "ipython",
    "version": 3
   },
   "file_extension": ".py",
   "mimetype": "text/x-python",
   "name": "python",
   "nbconvert_exporter": "python",
   "pygments_lexer": "ipython3",
   "version": "3.7.3"
  }
 },
 "nbformat": 4,
 "nbformat_minor": 2
}
